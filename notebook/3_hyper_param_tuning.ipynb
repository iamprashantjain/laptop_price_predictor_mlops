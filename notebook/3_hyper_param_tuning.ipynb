{
 "cells": [
  {
   "cell_type": "code",
   "execution_count": 2,
   "id": "9fe0eea9",
   "metadata": {},
   "outputs": [
    {
     "data": {
      "text/html": [
       "<pre style=\"white-space:pre;overflow-x:auto;line-height:normal;font-family:Menlo,'DejaVu Sans Mono',consolas,'Courier New',monospace\">Accessing as iamprashantjain\n",
       "</pre>\n"
      ],
      "text/plain": [
       "Accessing as iamprashantjain\n"
      ]
     },
     "metadata": {},
     "output_type": "display_data"
    },
    {
     "data": {
      "text/html": [
       "<pre style=\"white-space:pre;overflow-x:auto;line-height:normal;font-family:Menlo,'DejaVu Sans Mono',consolas,'Courier New',monospace\">Initialized MLflow to track repo <span style=\"color: #008000; text-decoration-color: #008000\">\"iamprashantjain/laptop_price_predictor_mlops\"</span>\n",
       "</pre>\n"
      ],
      "text/plain": [
       "Initialized MLflow to track repo \u001b[32m\"iamprashantjain/laptop_price_predictor_mlops\"\u001b[0m\n"
      ]
     },
     "metadata": {},
     "output_type": "display_data"
    },
    {
     "data": {
      "text/html": [
       "<pre style=\"white-space:pre;overflow-x:auto;line-height:normal;font-family:Menlo,'DejaVu Sans Mono',consolas,'Courier New',monospace\">Repository iamprashantjain/laptop_price_predictor_mlops initialized!\n",
       "</pre>\n"
      ],
      "text/plain": [
       "Repository iamprashantjain/laptop_price_predictor_mlops initialized!\n"
      ]
     },
     "metadata": {},
     "output_type": "display_data"
    },
    {
     "name": "stderr",
     "output_type": "stream",
     "text": [
      "2025/05/29 22:34:19 INFO mlflow.tracking.fluent: Experiment with name 'RandomForest_with_Storage_HPT' does not exist. Creating a new experiment.\n",
      "C:\\Users\\iampr\\AppData\\Local\\Temp\\ipykernel_22068\\1561354417.py:80: SettingWithCopyWarning: \n",
      "A value is trying to be set on a copy of a slice from a DataFrame\n",
      "\n",
      "See the caveats in the documentation: https://pandas.pydata.org/pandas-docs/stable/user_guide/indexing.html#returning-a-view-versus-a-copy\n",
      "  df.drop(columns=['Gpu'], inplace=True)\n",
      "C:\\Users\\iampr\\AppData\\Local\\Temp\\ipykernel_22068\\1561354417.py:82: SettingWithCopyWarning: \n",
      "A value is trying to be set on a copy of a slice from a DataFrame.\n",
      "Try using .loc[row_indexer,col_indexer] = value instead\n",
      "\n",
      "See the caveats in the documentation: https://pandas.pydata.org/pandas-docs/stable/user_guide/indexing.html#returning-a-view-versus-a-copy\n",
      "  df['os'] = df['OpSys'].apply(cat_os)\n",
      "C:\\Users\\iampr\\AppData\\Local\\Temp\\ipykernel_22068\\1561354417.py:83: SettingWithCopyWarning: \n",
      "A value is trying to be set on a copy of a slice from a DataFrame\n",
      "\n",
      "See the caveats in the documentation: https://pandas.pydata.org/pandas-docs/stable/user_guide/indexing.html#returning-a-view-versus-a-copy\n",
      "  df.drop(columns=['OpSys'], inplace=True)\n"
     ]
    },
    {
     "name": "stdout",
     "output_type": "stream",
     "text": [
      "Fitting 3 folds for each of 36 candidates, totalling 108 fits\n"
     ]
    },
    {
     "name": "stderr",
     "output_type": "stream",
     "text": [
      "2025/05/29 22:38:08 WARNING mlflow.models.model: Model logged without a signature and input example. Please set `input_example` parameter when logging the model to auto infer the model signature.\n"
     ]
    },
    {
     "name": "stdout",
     "output_type": "stream",
     "text": [
      "\n",
      "✅ Best Parameters: {'model__max_depth': 15, 'model__min_samples_leaf': 1, 'model__min_samples_split': 5, 'model__n_estimators': 100}\n",
      "📉 MAE: 10455.49\n",
      "📈 R² Score: 0.82\n"
     ]
    },
    {
     "name": "stderr",
     "output_type": "stream",
     "text": [
      "2025/05/29 22:38:15 INFO mlflow.tracking._tracking_service.client: 🏃 View run RF_GridSearch_with_Storage at: https://dagshub.com/iamprashantjain/laptop_price_predictor_mlops.mlflow/#/experiments/3/runs/e998071fc64a4b4d8365706bc6a6bd19.\n",
      "2025/05/29 22:38:15 INFO mlflow.tracking._tracking_service.client: 🧪 View experiment at: https://dagshub.com/iamprashantjain/laptop_price_predictor_mlops.mlflow/#/experiments/3.\n"
     ]
    }
   ],
   "source": [
    "# ---------- Imports ----------\n",
    "import pandas as pd\n",
    "import numpy as np\n",
    "import gc\n",
    "import mlflow\n",
    "import mlflow.sklearn\n",
    "import dagshub\n",
    "from sklearn.model_selection import train_test_split, GridSearchCV\n",
    "from sklearn.compose import ColumnTransformer\n",
    "from sklearn.pipeline import Pipeline\n",
    "from sklearn.preprocessing import StandardScaler, OneHotEncoder\n",
    "from sklearn.ensemble import RandomForestRegressor\n",
    "from sklearn.metrics import mean_absolute_error, r2_score\n",
    "\n",
    "\n",
    "# ---------- DagsHub + MLflow Setup ----------\n",
    "dagshub.init(repo_owner='iamprashantjain', repo_name='laptop_price_predictor_mlops', mlflow=True)\n",
    "mlflow.set_experiment(\"RandomForest_with_Storage_HPT\")\n",
    "mlflow.sklearn.autolog(disable=True)  # Disable autolog to avoid duplication\n",
    "\n",
    "\n",
    "# ---------- Data Load ----------\n",
    "df = pd.read_csv(r\"I:\\CampusX_DS\\campusx_dsmp2\\9. MLOps revisited\\laptop_price_predictor_mlops\\laptop_data.csv\")\n",
    "df.drop(columns=['Unnamed: 0'], inplace=True)\n",
    "\n",
    "\n",
    "# ---------- Preprocessing Functions ----------\n",
    "def fetch_processor(text):\n",
    "    if text in ['Intel Core i7', 'Intel Core i5', 'Intel Core i3']:\n",
    "        return text\n",
    "    elif text.startswith('Intel'):\n",
    "        return 'Other Intel Processor'\n",
    "    else:\n",
    "        return 'AMD Processor'\n",
    "\n",
    "def cat_os(inp):\n",
    "    if inp in ['Windows 10', 'Windows 7', 'Windows 10 S']:\n",
    "        return 'Windows'\n",
    "    elif inp in ['macOS', 'Mac OS X']:\n",
    "        return 'Mac'\n",
    "    else:\n",
    "        return 'Others/No OS/Linux'\n",
    "\n",
    "def preprocess(df):\n",
    "    df['Ram'] = df['Ram'].str.replace('GB', '', regex=False).astype('int32')\n",
    "    df['Weight'] = df['Weight'].str.replace('kg', '', regex=False).astype('float32')\n",
    "\n",
    "    df['Touchscreen'] = df['ScreenResolution'].apply(lambda x: 1 if 'Touchscreen' in x else 0)\n",
    "    df['Ips'] = df['ScreenResolution'].apply(lambda x: 1 if 'IPS' in x else 0)\n",
    "\n",
    "    new_res = df['ScreenResolution'].str.split('x', n=1, expand=True)\n",
    "    df['X_res'] = new_res[0].str.replace(',', '').str.extract(r'(\\d+)').astype(int)\n",
    "    df['Y_res'] = new_res[1].astype(int)\n",
    "    df['ppi'] = (((df['X_res'] ** 2 + df['Y_res'] ** 2) ** 0.5) / df['Inches']).astype(float)\n",
    "    df.drop(columns=['ScreenResolution', 'Inches', 'X_res', 'Y_res'], inplace=True)\n",
    "\n",
    "    df['Cpu Name'] = df['Cpu'].apply(lambda x: \" \".join(x.split()[0:3]))\n",
    "    df['Cpu brand'] = df['Cpu Name'].apply(fetch_processor)\n",
    "    df.drop(columns=['Cpu', 'Cpu Name'], inplace=True)\n",
    "\n",
    "    df['Memory'] = df['Memory'].astype(str).replace('\\.0', '', regex=True)\n",
    "    df['Memory'] = df['Memory'].str.replace('GB', '')\n",
    "    df['Memory'] = df['Memory'].str.replace('TB', '000')\n",
    "\n",
    "    mem_split = df['Memory'].str.split('+', n=1, expand=True)\n",
    "    df['first'] = mem_split[0].str.strip()\n",
    "    df['second'] = mem_split[1].fillna('0')\n",
    "\n",
    "    for col in ['first', 'second']:\n",
    "        df[f\"{col}_HDD\"] = df[col].apply(lambda x: 1 if 'HDD' in x else 0)\n",
    "        df[f\"{col}_SSD\"] = df[col].apply(lambda x: 1 if 'SSD' in x else 0)\n",
    "        df[col] = df[col].str.replace(r'\\D', '', regex=True).astype(int)\n",
    "\n",
    "    df['HDD'] = df['first'] * df['first_HDD'] + df['second'] * df['second_HDD']\n",
    "    df['SSD'] = df['first'] * df['first_SSD'] + df['second'] * df['second_SSD']\n",
    "    df.drop(columns=['Memory', 'first', 'second', 'first_HDD', 'first_SSD', 'second_HDD', 'second_SSD'], inplace=True)\n",
    "\n",
    "    df['Gpu brand'] = df['Gpu'].apply(lambda x: x.split()[0])\n",
    "    df = df[df['Gpu brand'] != 'ARM']\n",
    "    df.drop(columns=['Gpu'], inplace=True)\n",
    "\n",
    "    df['os'] = df['OpSys'].apply(cat_os)\n",
    "    df.drop(columns=['OpSys'], inplace=True)\n",
    "\n",
    "    df.reset_index(drop=True, inplace=True)\n",
    "    return df\n",
    "\n",
    "\n",
    "# ---------- Preprocess Data ----------\n",
    "df = preprocess(df)\n",
    "target = 'Price'\n",
    "X = df.drop(columns=[target])\n",
    "y = df[target]\n",
    "\n",
    "\n",
    "# ---------- Feature Columns ----------\n",
    "numeric_features = ['Ram', 'Weight', 'ppi', 'HDD', 'SSD']\n",
    "categorical_features = ['Company', 'TypeName', 'Cpu brand', 'Gpu brand', 'os']\n",
    "\n",
    "\n",
    "# ---------- Train-Test Split ----------\n",
    "X_train, X_test, y_train, y_test = train_test_split(X, y, test_size=0.2, random_state=42)\n",
    "\n",
    "\n",
    "# ---------- Preprocessor ----------\n",
    "preprocessor = ColumnTransformer([\n",
    "    ('num', StandardScaler(), numeric_features),\n",
    "    ('cat', OneHotEncoder(handle_unknown='ignore'), categorical_features)\n",
    "])\n",
    "\n",
    "\n",
    "# ---------- Pipeline ----------\n",
    "pipe = Pipeline([\n",
    "    ('preprocess', preprocessor),\n",
    "    ('model', RandomForestRegressor(random_state=42))\n",
    "])\n",
    "\n",
    "\n",
    "# ---------- Hyperparameter Grid ----------\n",
    "param_grid = {\n",
    "    'model__n_estimators': [50, 100, 150],\n",
    "    'model__max_depth': [10, 15, 20],\n",
    "    'model__min_samples_split': [2, 5],\n",
    "    'model__min_samples_leaf': [1, 2]\n",
    "}\n",
    "\n",
    "\n",
    "# ---------- Grid Search with MLflow Logging ----------\n",
    "with mlflow.start_run(run_name=\"RF_GridSearch_with_Storage\") as run:\n",
    "    grid = GridSearchCV(pipe, param_grid, cv=3, scoring='r2', verbose=2, n_jobs=-1)\n",
    "    grid.fit(X_train, y_train)\n",
    "\n",
    "    best_model = grid.best_estimator_\n",
    "    y_pred = best_model.predict(X_test)\n",
    "\n",
    "    mae = mean_absolute_error(y_test, y_pred)\n",
    "    r2 = r2_score(y_test, y_pred)\n",
    "\n",
    "    # Log best parameters and metrics\n",
    "    mlflow.log_params(grid.best_params_)\n",
    "    mlflow.log_metric(\"MAE\", mae)\n",
    "    mlflow.log_metric(\"R2\", r2)\n",
    "\n",
    "    # Log model\n",
    "    mlflow.sklearn.log_model(best_model, \"best_model_rf_with_storage\")\n",
    "\n",
    "    print(f\"\\n✅ Best Parameters: {grid.best_params_}\")\n",
    "    print(f\"📉 MAE: {mae:.2f}\")\n",
    "    print(f\"📈 R² Score: {r2:.2f}\")\n"
   ]
  },
  {
   "cell_type": "code",
   "execution_count": 3,
   "id": "e2c4435c",
   "metadata": {},
   "outputs": [
    {
     "name": "stdout",
     "output_type": "stream",
     "text": [
      "{'model__max_depth': 15, 'model__min_samples_leaf': 1, 'model__min_samples_split': 5, 'model__n_estimators': 100}\n"
     ]
    }
   ],
   "source": [
    "print(grid.best_params_)"
   ]
  },
  {
   "cell_type": "code",
   "execution_count": null,
   "id": "3478f1f1",
   "metadata": {},
   "outputs": [],
   "source": []
  }
 ],
 "metadata": {
  "kernelspec": {
   "display_name": "Python 3",
   "language": "python",
   "name": "python3"
  },
  "language_info": {
   "codemirror_mode": {
    "name": "ipython",
    "version": 3
   },
   "file_extension": ".py",
   "mimetype": "text/x-python",
   "name": "python",
   "nbconvert_exporter": "python",
   "pygments_lexer": "ipython3",
   "version": "3.8.0"
  }
 },
 "nbformat": 4,
 "nbformat_minor": 5
}
